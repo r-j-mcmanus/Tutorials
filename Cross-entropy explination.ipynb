{
 "cells": [
  {
   "cell_type": "markdown",
   "id": "290e6bb6",
   "metadata": {},
   "source": [
    "# Cross-entropy explination"
   ]
  },
  {
   "cell_type": "markdown",
   "id": "74a315ff",
   "metadata": {},
   "source": [
    "This is largely inspired by: [blog 1](https://towardsdatascience.com/understanding-binary-cross-entropy-log-loss-a-visual-explanation-a3ac6025181a) and [blog 2](https://machinelearningmastery.com/cross-entropy-for-machine-learning/#:~:text=Where%20H()%20is%20the,*%20log(Q(x))).\n",
    "\n",
    "\n",
    "Let us consider a clasification problem, there is a single contiuous feature $x$ that is used as a predictor for a target variable $y\\in{0,1}$.\n",
    "\n",
    "This is an example of a classification problem, and so how do we get a function of $x$ that outputs a discreat prediction $\\hat y$?\n",
    "\n",
    "To begin let us make an example data set. "
   ]
  },
  {
   "cell_type": "code",
   "execution_count": 32,
   "id": "3f0d9f60",
   "metadata": {},
   "outputs": [
    {
     "name": "stdout",
     "output_type": "stream",
     "text": [
      "[ 0.5676647   0.26966741 -0.50191382  0.51615173 -0.37384613  0.87447471\n",
      " -0.9142691  -0.11826559  0.82544458 -0.08999216  0.01586868 -0.83018409\n",
      " -0.14730042  0.49143392  0.73416279 -0.35266835 -0.79185121  0.60421609\n",
      " -0.2103361   0.25553618 -0.92802291 -0.4001843  -0.90469356 -0.25557784\n",
      " -0.47516961  0.98105241 -0.2097093  -0.38492147 -0.55779773 -0.01194995] \n",
      " [1 1 0 1 0 1 0 0 1 1 1 0 0 1 1 0 0 1 0 1 0 0 0 0 0 1 1 0 0 1]\n"
     ]
    }
   ],
   "source": [
    "import numpy as np\n",
    "\n",
    "np.random.seed(46)\n",
    "\n",
    "no_points = 30\n",
    "x = -1 + 2 * np.random.rand(no_points)\n",
    "noise = 0.5 * np.random.rand(no_points)\n",
    "\n",
    "y = np.arctan(x+noise)\n",
    "foo = np.vectorize(lambda value: 1 if value > 0 else 0)\n",
    "y = foo(y)\n",
    "\n",
    "print(x,'\\n',y)"
   ]
  },
  {
   "cell_type": "code",
   "execution_count": 33,
   "id": "b231c91b",
   "metadata": {},
   "outputs": [
    {
     "data": {
      "image/png": "[encoded data removed]",
      "text/plain": [
       "<Figure size 432x288 with 1 Axes>"
      ]
     },
     "metadata": {
      "needs_background": "light"
     },
     "output_type": "display_data"
    }
   ],
   "source": [
    "import matplotlib.pyplot as plt\n",
    "import seaborn as sns\n",
    "\n",
    "sns.scatterplot( x = x, y = [0] * x.shape[0], hue = y)\n",
    "plt.show()"
   ]
  },
  {
   "cell_type": "markdown",
   "id": "f45696d1",
   "metadata": {},
   "source": [
    "The problem is given the value of $x$ can we predict the value of $y$ and with what certanty can we do so. As set up, we know the more posative the value the more likly it is to be 1 and the more negative the more likely to be 0. \n",
    "\n",
    "We could fit a model to do so, splitting at exactly 0, but how good would the model be?\n",
    "\n",
    "For such classification problems, one uses the binary cross-entropy on the predicted probabilities $p$ and their true distribution $q$ for the values $y$. \n",
    "\n",
    "A measure of the information held in a distribution $q$ is in its entropy, \n",
    "\n",
    "$H(q) = - \\sum q(y_i) \\log (q(y_i))$.\n",
    "\n",
    "If the distribution would predict 50/50 for all values of $y_i$, then this is maximized, while if a distibution was cetain in all cases, it would be minimized. In this sence, the entropy measures how 'flat' a distribution is. \n",
    "\n",
    "However, we do not have access to the true distribution $q(y_i)$ for the variable $y$, rather we have a sample distribution $p(y_i)$.\n",
    "\n",
    "We could instead find the [cross entropy](https://en.wikipedia.org/wiki/Cross_entropy) of the two distributions:\n",
    "\n",
    "$H_p(q) = - \\sum q(y_i) \\log (p(y_i))$.\n",
    "\n",
    "If we were to take the diference of the entropy and the cross entropy, we would find $H_p - H \\geq 0$. This diference is known as the [KL Divergence](https://en.wikipedia.org/wiki/Kullback%E2%80%93Leibler_divergence),\n",
    "\n",
    "$\\sum q(y_i) (\\log (q(y_i) / p(y_i))$\n",
    "\n",
    "and is obviusly minimized when $q=p$ and so our goal should be to minimize it."
   ]
  },
  {
   "cell_type": "markdown",
   "id": "b7c3c815",
   "metadata": {},
   "source": [
    "# The Trick"
   ]
  },
  {
   "cell_type": "markdown",
   "id": "dcd3110a",
   "metadata": {},
   "source": [
    "We do not know the probability distribution for the outputs $y$, but we do not need it!\n",
    "\n",
    "Rather than the probability distribution that gives $y$ its value (should $y$ be a random variable), we consider a new distribution, which for all $x_i$ gives the output $y_i$ a 100% probability and all other posible values 0%. \n",
    "\n",
    "Denote this distribution $\\hat q$\n",
    "\n",
    "In so doing we have \n",
    "\n",
    "$\\sum \\hat q(y_i) \\log (\\hat q(y_i) / p(y_i)) = - \\log (p(y_true))$"
   ]
  },
  {
   "cell_type": "code",
   "execution_count": null,
   "id": "8dbb1a19",
   "metadata": {},
   "outputs": [],
   "source": []
  }
 ],
 "metadata": {
  "kernelspec": {
   "display_name": "Python 3 (ipykernel)",
   "language": "python",
   "name": "python3"
  },
  "language_info": {
   "codemirror_mode": {
    "name": "ipython",
    "version": 3
   },
   "file_extension": ".py",
   "mimetype": "text/x-python",
   "name": "python",
   "nbconvert_exporter": "python",
   "pygments_lexer": "ipython3",
   "version": "3.9.12"
  }
 },
 "nbformat": 4,
 "nbformat_minor": 5
}
